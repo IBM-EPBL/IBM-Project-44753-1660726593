{
  "metadata": {
    "language_info": {
      "codemirror_mode": {
        "name": "python",
        "version": 3
      },
      "file_extension": ".py",
      "mimetype": "text/x-python",
      "name": "python",
      "nbconvert_exporter": "python",
      "pygments_lexer": "ipython3",
      "version": "3.8"
    },
    "kernelspec": {
      "name": "python",
      "display_name": "Python (Pyodide)",
      "language": "python"
    }
  },
  "nbformat_minor": 4,
  "nbformat": 4,
  "cells": [
    {
      "cell_type": "code",
      "source": "\nImage Preprocessing\nImport ImageDataGenerator Library And Configure It\nfrom tensorflow.keras.preprocessing.image import ImageDataGenerator\n# Training Datagen\ntrain_datagen = ImageDataGenerator(rescale=1/255,zoom_range=0.2,horizontal_flip=True,vertical_flip=False)\n# Testing Datagen\ntest_datagen = ImageDataGenerator(rescale=1/255)\nimport tensorflow as tf\nimport os\nfrom tensorflow.keras.models import Sequential\nfrom tensorflow.keras.layers import Dense, Conv2D, Flatten, Dropout, MaxPooling2D\nfrom tensorflow.keras.preprocessing.image import ImageDataGenerator\nimport numpy as np\nimport matplotlib.pyplot as plt\nimport IPython.display as display\nfrom PIL import Image\nimport pathlib",
      "metadata": {},
      "execution_count": null,
      "outputs": []
    }
  ]
}